{
 "cells": [
  {
   "cell_type": "code",
   "execution_count": 1,
   "id": "fd4c9f03-ce29-4b19-bfac-f5f5d2350638",
   "metadata": {},
   "outputs": [],
   "source": [
    "import numpy as np\n",
    "import pandas as pd\n",
    "import matplotlib.pyplot as plt"
   ]
  },
  {
   "cell_type": "code",
   "execution_count": 39,
   "id": "20a1f4df-d9d6-4c48-8485-1f6689683515",
   "metadata": {},
   "outputs": [
    {
     "data": {
      "text/html": [
       "<div>\n",
       "<style scoped>\n",
       "    .dataframe tbody tr th:only-of-type {\n",
       "        vertical-align: middle;\n",
       "    }\n",
       "\n",
       "    .dataframe tbody tr th {\n",
       "        vertical-align: top;\n",
       "    }\n",
       "\n",
       "    .dataframe thead th {\n",
       "        text-align: right;\n",
       "    }\n",
       "</style>\n",
       "<table border=\"1\" class=\"dataframe\">\n",
       "  <thead>\n",
       "    <tr style=\"text-align: right;\">\n",
       "      <th></th>\n",
       "      <th>satisfaction</th>\n",
       "      <th>Customer Type</th>\n",
       "      <th>Age</th>\n",
       "      <th>Type of Travel</th>\n",
       "      <th>Class</th>\n",
       "      <th>Flight Distance</th>\n",
       "      <th>Seat comfort</th>\n",
       "      <th>Departure/Arrival time convenient</th>\n",
       "      <th>Food and drink</th>\n",
       "      <th>Gate location</th>\n",
       "      <th>...</th>\n",
       "      <th>Online support</th>\n",
       "      <th>Ease of Online booking</th>\n",
       "      <th>On-board service</th>\n",
       "      <th>Leg room service</th>\n",
       "      <th>Baggage handling</th>\n",
       "      <th>Checkin service</th>\n",
       "      <th>Cleanliness</th>\n",
       "      <th>Online boarding</th>\n",
       "      <th>Departure Delay in Minutes</th>\n",
       "      <th>Arrival Delay in Minutes</th>\n",
       "    </tr>\n",
       "  </thead>\n",
       "  <tbody>\n",
       "    <tr>\n",
       "      <th>0</th>\n",
       "      <td>satisfied</td>\n",
       "      <td>Loyal Customer</td>\n",
       "      <td>65</td>\n",
       "      <td>Personal Travel</td>\n",
       "      <td>Eco</td>\n",
       "      <td>265</td>\n",
       "      <td>0</td>\n",
       "      <td>0</td>\n",
       "      <td>0</td>\n",
       "      <td>2</td>\n",
       "      <td>...</td>\n",
       "      <td>2</td>\n",
       "      <td>3</td>\n",
       "      <td>3</td>\n",
       "      <td>0</td>\n",
       "      <td>3</td>\n",
       "      <td>5</td>\n",
       "      <td>3</td>\n",
       "      <td>2</td>\n",
       "      <td>0</td>\n",
       "      <td>0.0</td>\n",
       "    </tr>\n",
       "  </tbody>\n",
       "</table>\n",
       "<p>1 rows × 22 columns</p>\n",
       "</div>"
      ],
      "text/plain": [
       "  satisfaction   Customer Type  Age   Type of Travel Class  Flight Distance  \\\n",
       "0    satisfied  Loyal Customer   65  Personal Travel   Eco              265   \n",
       "\n",
       "   Seat comfort  Departure/Arrival time convenient  Food and drink  \\\n",
       "0             0                                  0               0   \n",
       "\n",
       "   Gate location  ...  Online support  Ease of Online booking  \\\n",
       "0              2  ...               2                       3   \n",
       "\n",
       "   On-board service  Leg room service  Baggage handling  Checkin service  \\\n",
       "0                 3                 0                 3                5   \n",
       "\n",
       "   Cleanliness  Online boarding  Departure Delay in Minutes  \\\n",
       "0            3                2                           0   \n",
       "\n",
       "   Arrival Delay in Minutes  \n",
       "0                       0.0  \n",
       "\n",
       "[1 rows x 22 columns]"
      ]
     },
     "execution_count": 39,
     "metadata": {},
     "output_type": "execute_result"
    }
   ],
   "source": [
    "df = pd.read_csv('Airline_customer_satisfaction.csv')\n",
    "df.head(1)"
   ]
  },
  {
   "cell_type": "code",
   "execution_count": 40,
   "id": "32323c54-9c1e-415d-92a3-e7f5b600a950",
   "metadata": {},
   "outputs": [],
   "source": [
    "df = df[['Departure Delay in Minutes','Flight Distance']]\n",
    "df = df.sample(1000)"
   ]
  },
  {
   "cell_type": "code",
   "execution_count": 41,
   "id": "0d3ef6ce-12e0-423b-8ea6-f48496bee445",
   "metadata": {},
   "outputs": [
    {
     "data": {
      "text/plain": [
       "<matplotlib.collections.PathCollection at 0x29880900610>"
      ]
     },
     "execution_count": 41,
     "metadata": {},
     "output_type": "execute_result"
    },
    {
     "data": {
      "image/png": "[encoded data removed]",
      "text/plain": [
       "<Figure size 640x480 with 1 Axes>"
      ]
     },
     "metadata": {},
     "output_type": "display_data"
    }
   ],
   "source": [
    "plt.scatter(x=df['Flight Distance'], y = df['Departure Delay in Minutes'])"
   ]
  },
  {
   "cell_type": "markdown",
   "id": "4a2d6159-96a8-460f-a96c-a01fefc86d06",
   "metadata": {},
   "source": [
    "# Normalization"
   ]
  },
  {
   "cell_type": "code",
   "execution_count": 42,
   "id": "76ce0d51-fddb-428f-b053-26f5edb9f51a",
   "metadata": {},
   "outputs": [],
   "source": [
    "df['Departure Delay in Minutes NORM'] = (df['Departure Delay in Minutes'] - df['Departure Delay in Minutes'].mean()) / df['Departure Delay in Minutes'].std()"
   ]
  },
  {
   "cell_type": "code",
   "execution_count": 43,
   "id": "c8dcc4f4-009d-42d7-bcca-4eebbff8e6b5",
   "metadata": {},
   "outputs": [],
   "source": [
    "df['Flight Distance NORM'] = (df['Flight Distance'] - df['Flight Distance'].mean()) / df['Flight Distance'].std()"
   ]
  },
  {
   "cell_type": "code",
   "execution_count": 44,
   "id": "e8bcdda4-6210-467f-b2a6-d4e647461b8b",
   "metadata": {},
   "outputs": [
    {
     "data": {
      "text/plain": [
       "<matplotlib.collections.PathCollection at 0x29880ab1110>"
      ]
     },
     "execution_count": 44,
     "metadata": {},
     "output_type": "execute_result"
    },
    {
     "data": {
      "image/png": "[encoded data removed]",
      "text/plain": [
       "<Figure size 640x480 with 1 Axes>"
      ]
     },
     "metadata": {},
     "output_type": "display_data"
    }
   ],
   "source": [
    "plt.scatter(x=df['Flight Distance NORM'], y = df['Departure Delay in Minutes NORM'])"
   ]
  },
  {
   "cell_type": "markdown",
   "id": "a36bb874-3df5-44f3-ab6e-8e34e7750692",
   "metadata": {},
   "source": [
    "# Maximum standardization"
   ]
  },
  {
   "cell_type": "code",
   "execution_count": 45,
   "id": "0cac2395-c69a-4027-8393-ccc4aa2c2aae",
   "metadata": {},
   "outputs": [],
   "source": [
    "df['Departure Delay in Minutes MAX'] = df['Departure Delay in Minutes'] / df['Departure Delay in Minutes'].max()"
   ]
  },
  {
   "cell_type": "code",
   "execution_count": 46,
   "id": "aec5ed48-acb3-4629-b6ad-cb35527d4a02",
   "metadata": {},
   "outputs": [],
   "source": [
    "df['Flight Distance MAX'] = df['Flight Distance'] / df['Flight Distance'].max()"
   ]
  },
  {
   "cell_type": "code",
   "execution_count": 47,
   "id": "a9c45287-bf4f-48d9-8bc8-d706237ad72d",
   "metadata": {},
   "outputs": [
    {
     "data": {
      "text/plain": [
       "Text(0, 0.5, 'Departure Delay in Minutes (Standardized)')"
      ]
     },
     "execution_count": 47,
     "metadata": {},
     "output_type": "execute_result"
    },
    {
     "data": {
      "image/png": "[encoded data removed]",
      "text/plain": [
       "<Figure size 640x480 with 1 Axes>"
      ]
     },
     "metadata": {},
     "output_type": "display_data"
    }
   ],
   "source": [
    "plt.scatter(x=df['Flight Distance MAX'], y = df['Departure Delay in Minutes MAX'])\n",
    "plt.xlabel('Flight distance (Standardized)')\n",
    "plt.ylabel('Departure Delay in Minutes (Standardized)')"
   ]
  },
  {
   "cell_type": "markdown",
   "id": "197145f6-a230-42a4-ae9a-6b52e3627df8",
   "metadata": {},
   "source": [
    "# Model"
   ]
  },
  {
   "cell_type": "code",
   "execution_count": 48,
   "id": "d638f6ae-c977-4134-8d80-5dcad7584fdc",
   "metadata": {},
   "outputs": [
    {
     "data": {
      "text/plain": [
       "6734"
      ]
     },
     "execution_count": 48,
     "metadata": {},
     "output_type": "execute_result"
    }
   ],
   "source": [
    "df['Flight Distance'].max()"
   ]
  },
  {
   "cell_type": "code",
   "execution_count": 49,
   "id": "d3f46c81-0fc4-4401-9dc2-85db171a40f3",
   "metadata": {},
   "outputs": [
    {
     "data": {
      "text/plain": [
       "531"
      ]
     },
     "execution_count": 49,
     "metadata": {},
     "output_type": "execute_result"
    }
   ],
   "source": [
    "df['Departure Delay in Minutes'].max()"
   ]
  },
  {
   "cell_type": "markdown",
   "id": "aed88988-93d6-414f-acbe-0c38672136dc",
   "metadata": {},
   "source": [
    "## Cost function"
   ]
  },
  {
   "cell_type": "code",
   "execution_count": 50,
   "id": "86aa4452-c38b-4955-8570-4819db5ef4ac",
   "metadata": {},
   "outputs": [],
   "source": [
    "def compute_cost(x, y, w, b): \n",
    "    # number of training examples\n",
    "    m = x.shape[0] \n",
    "    \n",
    "    total_cost = 0\n",
    "\n",
    "    # summation\n",
    "    h = 0\n",
    "    \n",
    "    for i in range(m):\n",
    "            h += ((((w*(x.iloc[i]))+b)-(y.iloc[i]))**2)\n",
    "\n",
    "    # finalisation equation\n",
    "    total_cost = (1/(2*m))*h\n",
    "    \n",
    "\n",
    "    return total_cost"
   ]
  },
  {
   "cell_type": "markdown",
   "id": "bb4657b9-5c2a-4e02-bcdb-5a1db80acaa3",
   "metadata": {},
   "source": [
    "## Differentiation and gradient calculation"
   ]
  },
  {
   "cell_type": "code",
   "execution_count": 51,
   "id": "cc70b060-3d5f-4c96-9e54-3c8812d9bf3a",
   "metadata": {},
   "outputs": [],
   "source": [
    "def compute_gradient(x, y, w, b): \n",
    "    # Number of training examples\n",
    "    m = x.shape[0]\n",
    "    \n",
    "    dj_dw = 0\n",
    "    dj_db = 0\n",
    "    \n",
    "    # summation for b\n",
    "    hb = 0 \n",
    "    \n",
    "    for i in range(m):\n",
    "        hb += (((w*(x.iloc[i]))+b)-(y.iloc[i]))\n",
    "\n",
    "    # rest of equation\n",
    "    dj_db = (1/m)*hb\n",
    "    \n",
    "    \n",
    "    # summation for w\n",
    "    hw = 0\n",
    "    \n",
    "    for i in range(m):\n",
    "        hw += (((w*(x.iloc[i]))+b)-(y.iloc[i]))*(x.iloc[i])\n",
    "\n",
    "    # rest of equation\n",
    "    dj_dw = (1/m)*hw  \n",
    "\n",
    "        \n",
    "    return dj_dw, dj_db"
   ]
  },
  {
   "cell_type": "markdown",
   "id": "29734d5b-faf6-4d49-aae5-2c656e10c9f7",
   "metadata": {},
   "source": [
    "## Gradient descent"
   ]
  },
  {
   "cell_type": "code",
   "execution_count": 52,
   "id": "c6a4382c-11bd-4622-9852-362524e486d4",
   "metadata": {},
   "outputs": [],
   "source": [
    "def gradient_descent(x, y, w, b, alpha, num_iters):\n",
    "\n",
    "    for i in range(num_iters):\n",
    "        dj_dw, dj_db = compute_gradient(x, y, w, b)\n",
    "        \n",
    "        # Update the parameters\n",
    "        w_temp = w - alpha * dj_dw\n",
    "        b_temp = b - alpha * dj_db\n",
    "\n",
    "        w = w_temp\n",
    "        b = b_temp\n",
    "\n",
    "        \n",
    "        # printing the cost every 100 iterations for debugging\n",
    "        if i % 50 == 0:\n",
    "            cost = compute_cost(x, y, w, b)\n",
    "            print(f\"Iteration {i}: Cost {cost.round(4)}, w {w.round(4)}, b {b.round(4)}\")\n",
    "    \n",
    "    return w, b"
   ]
  },
  {
   "cell_type": "code",
   "execution_count": 53,
   "id": "1a466b1c-74d4-4388-8452-1cd0ecbc5add",
   "metadata": {},
   "outputs": [
    {
     "name": "stdout",
     "output_type": "stream",
     "text": [
      "Iteration 0: Cost 0.0032, w 0.001, b 0.0029\n",
      "Iteration 50: Cost 0.0028, w 0.0122, b 0.0252\n",
      "Iteration 100: Cost 0.0028, w 0.0159, b 0.0241\n",
      "Iteration 150: Cost 0.0028, w 0.0192, b 0.0231\n",
      "Iteration 200: Cost 0.0028, w 0.0221, b 0.0222\n",
      "Iteration 250: Cost 0.0028, w 0.0248, b 0.0214\n",
      "Iteration 300: Cost 0.0028, w 0.0272, b 0.0207\n",
      "Iteration 350: Cost 0.0028, w 0.0294, b 0.02\n",
      "Iteration 400: Cost 0.0028, w 0.0313, b 0.0195\n",
      "Iteration 450: Cost 0.0028, w 0.0331, b 0.0189\n",
      "Optimized w: 0.03464170262159621, Optimized b: 0.018462200147017757\n"
     ]
    }
   ],
   "source": [
    "\n",
    "# Scaled Training data\n",
    "x = df['Flight Distance MAX']\n",
    "y = df['Departure Delay in Minutes MAX']\n",
    "\n",
    "# Initial values for w and b\n",
    "w = 0\n",
    "b = 0\n",
    "\n",
    "# Learning rate\n",
    "alpha = 0.1\n",
    "\n",
    "# Number of iterations\n",
    "num_iters = 500\n",
    "\n",
    "w, b = gradient_descent(x, y, w, b, alpha, num_iters)\n",
    "\n",
    "print(f\"Optimized w: {w}, Optimized b: {b}\")"
   ]
  },
  {
   "cell_type": "code",
   "execution_count": 66,
   "id": "bf4c45a6-f2a5-4e2d-a821-3c12cabf1944",
   "metadata": {},
   "outputs": [],
   "source": [
    "def predict(input):\n",
    "    scale_input = input / x.max()\n",
    "    prediction_output = (scale_input * w) + b\n",
    "    print(f\"The Expected Delay in Departure Time is: {prediction_output.round(1)} minutes\")"
   ]
  },
  {
   "cell_type": "code",
   "execution_count": 67,
   "id": "d885fa61-cac4-4029-9a37-c620a65815bc",
   "metadata": {},
   "outputs": [
    {
     "name": "stdout",
     "output_type": "stream",
     "text": [
      "The Expected Delay in Departure Time is: 138.6 minutes\n"
     ]
    }
   ],
   "source": [
    "predict(4000)"
   ]
  }
 ],
 "metadata": {
  "kernelspec": {
   "display_name": "Python 3 (ipykernel)",
   "language": "python",
   "name": "python3"
  },
  "language_info": {
   "codemirror_mode": {
    "name": "ipython",
    "version": 3
   },
   "file_extension": ".py",
   "mimetype": "text/x-python",
   "name": "python",
   "nbconvert_exporter": "python",
   "pygments_lexer": "ipython3",
   "version": "3.11.5"
  }
 },
 "nbformat": 4,
 "nbformat_minor": 5
}
